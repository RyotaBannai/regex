{
 "cells": [
  {
   "cell_type": "code",
   "execution_count": 1,
   "metadata": {
    "collapsed": true
   },
   "outputs": [],
   "source": [
    "import re"
   ]
  },
  {
   "cell_type": "code",
   "execution_count": 2,
   "metadata": {},
   "outputs": [
    {
     "data": {
      "text/plain": [
       "('c', 'b')"
      ]
     },
     "execution_count": 2,
     "metadata": {},
     "output_type": "execute_result"
    }
   ],
   "source": [
    "#Positive Lookahead, Lookbehind \n",
    "re.search(r'(?<=([c]))a(?=(b))', 'cab', flags=re.M).groups()"
   ]
  },
  {
   "cell_type": "code",
   "execution_count": 3,
   "metadata": {},
   "outputs": [
    {
     "name": "stdout",
     "output_type": "stream",
     "text": [
      "None\n"
     ]
    }
   ],
   "source": [
    "#Negative\n",
    "print(re.search(r'(?<!([c]))a(?!(b))', 'cab', flags=re.M))"
   ]
  },
  {
   "cell_type": "code",
   "execution_count": 4,
   "metadata": {},
   "outputs": [
    {
     "data": {
      "text/plain": [
       "\"John'\""
      ]
     },
     "execution_count": 4,
     "metadata": {},
     "output_type": "execute_result"
    }
   ],
   "source": [
    "re.search(r'\\b\\w+[^s]\\b', 'John\\'s').group()"
   ]
  },
  {
   "cell_type": "code",
   "execution_count": 5,
   "metadata": {},
   "outputs": [
    {
     "data": {
      "text/plain": [
       "'John'"
      ]
     },
     "execution_count": 5,
     "metadata": {},
     "output_type": "execute_result"
    }
   ],
   "source": [
    "# Notice the difference an above and below. \n",
    "# Apostrophe is excluded because it's followed by 's' \n",
    "re.search(r'\\b\\w+(?<!s)\\b', 'John\\'s').group()"
   ]
  },
  {
   "cell_type": "code",
   "execution_count": 6,
   "metadata": {},
   "outputs": [
    {
     "name": "stdout",
     "output_type": "stream",
     "text": [
      "None\n"
     ]
    }
   ],
   "source": [
    "print(re.search(r'(?=(\\d+))\\w+\\1', '123x12'))"
   ]
  },
  {
   "cell_type": "code",
   "execution_count": 7,
   "metadata": {},
   "outputs": [
    {
     "data": {
      "text/plain": [
       "'56x56'"
      ]
     },
     "execution_count": 7,
     "metadata": {},
     "output_type": "execute_result"
    }
   ],
   "source": [
    "re.search(r'(?=(\\d+))\\w+\\1', '56x56').group()"
   ]
  },
  {
   "cell_type": "code",
   "execution_count": 8,
   "metadata": {},
   "outputs": [
    {
     "data": {
      "text/plain": [
       "'56x56'"
      ]
     },
     "execution_count": 8,
     "metadata": {},
     "output_type": "execute_result"
    }
   ],
   "source": [
    "re.search(r'(?=(\\d+))\\w+\\1', '456x56').group()"
   ]
  },
  {
   "cell_type": "code",
   "execution_count": 9,
   "metadata": {},
   "outputs": [
    {
     "data": {
      "text/plain": [
       "'6x6'"
      ]
     },
     "execution_count": 9,
     "metadata": {},
     "output_type": "execute_result"
    }
   ],
   "source": [
    "re.search(r'(?=(\\d+))\\w+\\1', '456x6').group()"
   ]
  },
  {
   "cell_type": "markdown",
   "metadata": {},
   "source": [
    "#### <span style=\"color:#2F4F4F\"> \"\\1\" is euquivalent to \"(\\d+)\"</span>\n",
    "#### <span style=\"color:#2F4F4F\"> And \"(\\d+)\" returns matches, 123, 23, 3 in this case</span>"
   ]
  },
  {
   "cell_type": "code",
   "execution_count": 10,
   "metadata": {},
   "outputs": [
    {
     "name": "stdout",
     "output_type": "stream",
     "text": [
      "('v_name', '12')\n"
     ]
    }
   ],
   "source": [
    "r = re.compile(r\"var (\\w+|\\d+) = (\\w+|\\d+)\")\n",
    "print (r.match(\"var v_name = 12\").groups())"
   ]
  },
  {
   "cell_type": "code",
   "execution_count": 11,
   "metadata": {},
   "outputs": [
    {
     "data": {
      "text/plain": [
       "('John', '123456')"
      ]
     },
     "execution_count": 11,
     "metadata": {},
     "output_type": "execute_result"
    }
   ],
   "source": [
    "m = re.search('(?P<name>.*) (?P<phone>.*)', 'John 123456'); m.groups()"
   ]
  },
  {
   "cell_type": "code",
   "execution_count": 12,
   "metadata": {},
   "outputs": [
    {
     "data": {
      "text/plain": [
       "'John'"
      ]
     },
     "execution_count": 12,
     "metadata": {},
     "output_type": "execute_result"
    }
   ],
   "source": [
    "m.group('name')"
   ]
  },
  {
   "cell_type": "code",
   "execution_count": 13,
   "metadata": {},
   "outputs": [
    {
     "data": {
      "text/plain": [
       "'Larry is Larry'"
      ]
     },
     "execution_count": 13,
     "metadata": {},
     "output_type": "execute_result"
    }
   ],
   "source": [
    "mm_1 = re.search('(?P<name>[\\w]+)\\s.*?\\s(?P=name)', 'Larry is Larry');mm_1.group()"
   ]
  },
  {
   "cell_type": "code",
   "execution_count": 14,
   "metadata": {},
   "outputs": [
    {
     "data": {
      "text/plain": [
       "'Larry is Larry'"
      ]
     },
     "execution_count": 14,
     "metadata": {},
     "output_type": "execute_result"
    }
   ],
   "source": [
    "mm_2 = re.search(r'(?P<name>[\\w]+)\\s.*?\\s\\1', 'Larry is Larry');mm_2.group()"
   ]
  },
  {
   "cell_type": "markdown",
   "metadata": {},
   "source": [
    "<span style='color:red;'><b>*</b> mm_2 requires <i>r'...'<i> for the use of <i>\\1<i></span>"
   ]
  },
  {
   "cell_type": "code",
   "execution_count": 15,
   "metadata": {},
   "outputs": [
    {
     "data": {
      "text/plain": [
       "['a', 'b', 'c', 'd']"
      ]
     },
     "execution_count": 15,
     "metadata": {},
     "output_type": "execute_result"
    }
   ],
   "source": [
    "str_1 = \"a    b     c      d\"\n",
    "re.split(\" +\", str_1)"
   ]
  },
  {
   "cell_type": "code",
   "execution_count": 98,
   "metadata": {},
   "outputs": [
    {
     "data": {
      "text/plain": [
       "[\"Larry's\", 'number']"
      ]
     },
     "execution_count": 98,
     "metadata": {},
     "output_type": "execute_result"
    }
   ],
   "source": [
    "str_2 = \"Larry's number is 12345.\\nSergey's number is 54321.\\nSunder's number is 09876.\"\n",
    "re.split(\"[ |\\s]\", str_2)[0:2]"
   ]
  },
  {
   "cell_type": "markdown",
   "metadata": {},
   "source": [
    "### <span style='color: red ;'>Search from specific position.</span>"
   ]
  },
  {
   "cell_type": "code",
   "execution_count": 17,
   "metadata": {},
   "outputs": [
    {
     "data": {
      "text/plain": [
       "'54321'"
      ]
     },
     "execution_count": 17,
     "metadata": {},
     "output_type": "execute_result"
    }
   ],
   "source": [
    "s = re.search('(Sergey\\'s number)',str_2).start()\n",
    "p=re.compile(r'[\\d]+')\n",
    "p.search(str_2,s,).group()"
   ]
  },
  {
   "cell_type": "markdown",
   "metadata": {},
   "source": [
    "### <span style='color: red ;'>How to get the last matched group?</span>"
   ]
  },
  {
   "cell_type": "code",
   "execution_count": 18,
   "metadata": {},
   "outputs": [
    {
     "name": "stdout",
     "output_type": "stream",
     "text": [
      "-5 -3\n"
     ]
    }
   ],
   "source": [
    "s = \"123456789 nn nn oo nn nn mlm nn203\"\n",
    "match = re.search(\"(nn)(?!.*nn.*)\", s)\n",
    "print (match.start()-len(s), match.end()-len(s))"
   ]
  },
  {
   "cell_type": "code",
   "execution_count": 19,
   "metadata": {},
   "outputs": [
    {
     "data": {
      "text/plain": [
       "(-5, -3)"
      ]
     },
     "execution_count": 19,
     "metadata": {},
     "output_type": "execute_result"
    }
   ],
   "source": [
    "## Or reversing at first\n",
    "s = \"123456789 nn nn oo nn nn mlm nn203\"\n",
    "m = re.search(\"(nn)\", s[::-1])\n",
    "-m.end(), -m.start()"
   ]
  },
  {
   "cell_type": "code",
   "execution_count": 20,
   "metadata": {},
   "outputs": [
    {
     "data": {
      "text/plain": [
       "[('nn', 10, 12), ('nn', 13, 15), ('nn', 19, 21), ('nn', 22, 24)]"
      ]
     },
     "execution_count": 20,
     "metadata": {},
     "output_type": "execute_result"
    }
   ],
   "source": [
    "# Or re.finditer\n",
    "[(m.group(), m.start(), m.end()) for m in re.finditer(r'(?<![\\d])(nn)(?![\\d]+)',s)]"
   ]
  },
  {
   "cell_type": "code",
   "execution_count": 21,
   "metadata": {},
   "outputs": [
    {
     "name": "stdout",
     "output_type": "stream",
     "text": [
      "[abcdefghijklmnopqrstuvwxyz0123456789\\!\\#\\$\\%\\&\\'\\*\\+\\-\\.\\^_\\`\\|\\~\\:]+\n"
     ]
    }
   ],
   "source": [
    "import string\n",
    "legal_chars = string.ascii_lowercase + string.digits + \"!#$%&'*+-.^_`|~:\"\n",
    "print ('[%s]+' % re.escape(legal_chars))"
   ]
  },
  {
   "cell_type": "code",
   "execution_count": 22,
   "metadata": {},
   "outputs": [
    {
     "data": {
      "text/plain": [
       "'<user@host.com->-'"
      ]
     },
     "execution_count": 22,
     "metadata": {},
     "output_type": "execute_result"
    }
   ],
   "source": [
    "p = '(<)?(?:\\w+@\\w+(?:\\.\\w+)+)(-)?(?(1)>|)(?(2)-|)'\n",
    "re.search(p, '<user@host.com->-').group()"
   ]
  },
  {
   "cell_type": "markdown",
   "metadata": {},
   "source": [
    "### <span style='color: red ;'>How to get text from an innermost html code(up to five nesting)?</span>"
   ]
  },
  {
   "cell_type": "code",
   "execution_count": 34,
   "metadata": {},
   "outputs": [
    {
     "data": {
      "text/plain": [
       "'target_value'"
      ]
     },
     "execution_count": 34,
     "metadata": {},
     "output_type": "execute_result"
    }
   ],
   "source": [
    "pattern = \"(?P<wrap0><.*?>)?(?P<wrap1><.*?>)?(?P<wrap2><.*?>)?(?P<wrap3><.*?>)?(?P<wrap4><.*?>)?\\\n",
    "(?P<value>.*?)(?(wrap4)<.*?>|)?(?(wrap3)<.*?>|)?(?(wrap2)<.*?>|)?(?(wrap1)<.*?>|)?(?(wrap0)<.*?>|.*?)\"\n",
    " \n",
    "string1 = \"<div><p><span><a href='#'>target_value</a></span></p></div>\"\n",
    "\n",
    "rs = re.match(pattern,string1);rs.group('value')"
   ]
  },
  {
   "cell_type": "code",
   "execution_count": 67,
   "metadata": {},
   "outputs": [
    {
     "data": {
      "text/plain": [
       "'(?P<wrap0><.*?>)?(?P<wrap1><.*?>)?(?P<wrap2><.*?>)?(?P<wrap3><.*?>)?(?P<wrap4><.*?>)?(?P<value>.*?)(?(wrap4)<.*?>|)?(?(wrap3)<.*?>|)?(?(wrap2)<.*?>|)?(?(wrap1)<.*?>|)?(?(wrap0)<.*?>|.*?)'"
      ]
     },
     "execution_count": 67,
     "metadata": {},
     "output_type": "execute_result"
    }
   ],
   "source": [
    "ptn_2, n= '', 5;\n",
    "for i in range(n): \n",
    "    p='(?P<wrap'+str(i)+'><.*?>)?'\n",
    "    ptn_2+=p\n",
    "    if i==n-1: ptn_2+='(?P<value>.*?)'\n",
    "#for j in range(n): \n",
    "#for n in range(5,-1,-1):\n",
    "for j in reversed(range(n)):\n",
    "    if j==0: \n",
    "        p='(?(wrap'+str(j)+')<.*?>|.*?)'\n",
    "    else: \n",
    "        p='(?(wrap'+str(j)+')<.*?>|)?'\n",
    "    ptn_2+=p   \n",
    "ptn_2"
   ]
  },
  {
   "cell_type": "code",
   "execution_count": 68,
   "metadata": {},
   "outputs": [
    {
     "data": {
      "text/plain": [
       "'target_value'"
      ]
     },
     "execution_count": 68,
     "metadata": {},
     "output_type": "execute_result"
    }
   ],
   "source": [
    "rs_2 = re.match(ptn_2,string1);rs_2.group('value')"
   ]
  },
  {
   "cell_type": "markdown",
   "metadata": {},
   "source": [
    "### <span style='color: red ;'>Finding doubled words in texts.</span>"
   ]
  },
  {
   "cell_type": "code",
   "execution_count": 96,
   "metadata": {},
   "outputs": [
    {
     "data": {
      "text/plain": [
       "\"I'm from the United States\""
      ]
     },
     "execution_count": 96,
     "metadata": {},
     "output_type": "execute_result"
    }
   ],
   "source": [
    "def reducing(m): return m.groups()[0]\n",
    "p=r'(?P<doubt>.+) \\1'\n",
    "line='I\\'m from from the the United United States'\n",
    "f=lambda m:m.groups()[0]\n",
    "#re.sub(p,f,line)\n",
    "re.sub(p,reducing,line)"
   ]
  },
  {
   "cell_type": "code",
   "execution_count": null,
   "metadata": {
    "collapsed": true
   },
   "outputs": [],
   "source": []
  }
 ],
 "metadata": {
  "kernelspec": {
   "display_name": "Python 3",
   "language": "python",
   "name": "python3"
  },
  "language_info": {
   "codemirror_mode": {
    "name": "ipython",
    "version": 3
   },
   "file_extension": ".py",
   "mimetype": "text/x-python",
   "name": "python",
   "nbconvert_exporter": "python",
   "pygments_lexer": "ipython3",
   "version": "3.5.6"
  }
 },
 "nbformat": 4,
 "nbformat_minor": 2
}
